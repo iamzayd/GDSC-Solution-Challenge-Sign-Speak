{
  "nbformat": 4,
  "nbformat_minor": 0,
  "metadata": {
    "colab": {
      "provenance": []
    },
    "kernelspec": {
      "name": "python3",
      "display_name": "Python 3"
    },
    "language_info": {
      "name": "python"
    }
  },
  "cells": [
    {
      "cell_type": "markdown",
      "source": [
        "## Using Gemini to Predict what Sign Language mean From different Countries sign language"
      ],
      "metadata": {
        "id": "41p2mvuJ_Wwc"
      }
    },
    {
      "cell_type": "code",
      "source": [
        "# Install Google's Gemini Libraries\n",
        "!pip install -q -U google-generativeai\n",
        "\n",
        "\n",
        "#Import libraries\n",
        "import google.generativeai as genai\n",
        "from google.colab import userdata\n",
        "from IPython.display import display\n",
        "from IPython.display import Markdown\n",
        "import PIL.Image\n",
        "\n",
        "# configure api key and initialise model\n",
        "from google.colab import userdata\n",
        "import os\n",
        "\n",
        "\n",
        "if \"GOOGLE_API_KEY\" not in os.environ:\n",
        "    os.environ[\"GOOGLE_API_KEY\"] = userdata.get('api_key')\n",
        "\n",
        "genai.configure(api_key=os.environ['GOOGLE_API_KEY'])\n",
        "\n",
        "\n",
        "for m in genai.list_models():\n",
        "  if 'generateContent' in m.supported_generation_methods:\n",
        "    print(m.name)"
      ],
      "metadata": {
        "colab": {
          "base_uri": "https://localhost:8080/",
          "height": 126
        },
        "id": "NWmv1TuxBK6K",
        "outputId": "741454a1-4dae-4deb-9223-19364d7bc3c7"
      },
      "execution_count": 5,
      "outputs": [
        {
          "output_type": "stream",
          "name": "stdout",
          "text": [
            "models/gemini-1.0-pro\n",
            "models/gemini-1.0-pro-001\n",
            "models/gemini-1.0-pro-latest\n",
            "models/gemini-1.0-pro-vision-latest\n",
            "models/gemini-pro\n",
            "models/gemini-pro-vision\n"
          ]
        }
      ]
    },
    {
      "cell_type": "markdown",
      "source": [
        "### below passing an image for actual sign \"hello\" / \"hi\" in philipino sign language.. lets see outcome"
      ],
      "metadata": {
        "id": "4-rAKfge_eJU"
      }
    },
    {
      "cell_type": "code",
      "source": [
        "# Directly Calling API\n",
        "\n",
        "\n",
        "image = PIL.Image.open('/content/sample image delight.png')\n",
        "vision_model = genai.GenerativeModel('gemini-pro-vision')\n",
        "response = vision_model.generate_content([\"In philipino sign language, tell me what sign does this refer to?\",image])\n",
        "\n",
        "print(response.text)"
      ],
      "metadata": {
        "colab": {
          "base_uri": "https://localhost:8080/",
          "height": 35
        },
        "id": "EPaI5aZPBMRj",
        "outputId": "afbaa988-03be-4210-cbce-f3641ecfc163"
      },
      "execution_count": 7,
      "outputs": [
        {
          "output_type": "stream",
          "name": "stdout",
          "text": [
            " This is the sign for \"Hi\" in Filipino Sign Language.\n"
          ]
        }
      ]
    },
    {
      "cell_type": "markdown",
      "source": [
        "## outcome is true and has predicted well"
      ],
      "metadata": {
        "id": "l5vks0qW_lcM"
      }
    },
    {
      "cell_type": "markdown",
      "source": [
        "## Future work: soon more tests will be carried for different language and also test our model compared with gemini in terms of accuracy, inference speed and correction in predicting sentence"
      ],
      "metadata": {
        "id": "kKXRLqjK_ppU"
      }
    },
    {
      "cell_type": "code",
      "source": [],
      "metadata": {
        "id": "Sx6jTalDCfn2"
      },
      "execution_count": null,
      "outputs": []
    }
  ]
}